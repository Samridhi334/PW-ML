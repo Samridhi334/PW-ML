{
  "nbformat": 4,
  "nbformat_minor": 0,
  "metadata": {
    "colab": {
      "provenance": []
    },
    "kernelspec": {
      "name": "python3",
      "display_name": "Python 3"
    },
    "language_info": {
      "name": "python"
    }
  },
  "cells": [
    {
      "cell_type": "markdown",
      "source": [
        "Can we use Bagging for regression problems?\n",
        "Yes, Bagging (Bootstrap Aggregating) can be used for regression problems. Bagging creates multiple versions of a predictor (regression model) on bootstrapped samples of the data and averages their predictions to improve stability and accuracy and reduce variance.\n",
        "\n",
        "What is the difference between multiple model training and single model training?\n",
        "\n",
        "Single model training: You train one model on the entire dataset and use it for predictions.\n",
        "\n",
        "Multiple model training: You train multiple models independently (often on different subsets or bootstrap samples of data) and combine their predictions (e.g., by averaging or voting). This usually leads to better generalization and reduced overfitting.\n",
        "\n",
        "Explain the concept of feature randomness in Random Forest\n",
        "Random Forest introduces randomness by selecting a random subset of features at each split while building each decision tree. This feature randomness helps create diverse trees, reducing correlation among trees and improving overall model performance and robustness.\n",
        "\n",
        "What is OOB (Out-of-Bag) Score?\n",
        "OOB Score is an internal validation metric in Bagging and Random Forest methods. For each tree, the samples not included in the bootstrap sample (about 1/3 of the data) are used to test that tree. The aggregated prediction from all trees on their respective OOB samples is used to estimate the model's generalization accuracy without needing a separate validation set.\n",
        "\n",
        "How can you measure the importance of features in a Random Forest model?\n",
        "Feature importance can be measured by:\n",
        "\n",
        "Mean Decrease in Impurity (MDI): Sum of the impurity decrease (e.g., Gini) caused by splits on a feature, averaged over all trees.\n",
        "\n",
        "Permutation Importance: Measuring the increase in prediction error after randomly permuting the feature’s values, which breaks the relationship between the feature and the target.\n",
        "\n",
        "Explain the working principle of a Bagging Classifier\n",
        "A Bagging Classifier trains multiple base classifiers on different bootstrap samples of the training data. Each classifier votes for a class, and the final prediction is made by majority voting. This reduces variance and improves model stability.\n",
        "\n",
        "How do you evaluate a Bagging Classifier’s performance?\n",
        "Performance is evaluated using common classification metrics such as accuracy, precision, recall, F1-score, and confusion matrix on a test or validation set. The OOB score can also be used as an unbiased estimator of performance.\n",
        "\n",
        "How does a Bagging Regressor work?\n",
        "A Bagging Regressor trains multiple regression models on different bootstrap samples of the data. The final prediction is the average of predictions from all models. This reduces variance and improves prediction accuracy.\n",
        "\n",
        "What is the main advantage of ensemble techniques?\n",
        "The main advantage is improved predictive performance by combining multiple models, which reduces overfitting and variance and often leads to better generalization on unseen data.\n",
        "\n",
        "What is the main challenge of ensemble methods?\n",
        "Challenges include increased computational cost and complexity, difficulty in interpretation, and sometimes longer training and prediction times compared to single models.\n",
        "\n",
        "Explain the key idea behind ensemble techniques\n",
        "The key idea is to combine multiple base models to create a stronger overall model that is more accurate and robust than any individual base model by reducing errors such as bias, variance, or improving stability.\n",
        "\n",
        "What is a Random Forest Classifier?\n",
        "A Random Forest Classifier is an ensemble method that builds multiple decision trees using bootstrap samples and feature randomness, then combines their predictions by majority voting for classification tasks.\n",
        "\n",
        "What are the main types of ensemble techniques?\n",
        "\n",
        "Bagging (Bootstrap Aggregating)\n",
        "\n",
        "Boosting (e.g., AdaBoost, Gradient Boosting)\n",
        "\n",
        "Stacking (stacked generalization)\n",
        "\n",
        "What is ensemble learning in machine learning?\n",
        "Ensemble learning combines predictions from multiple models to improve accuracy, robustness, and generalization compared to individual models.\n",
        "\n",
        "When should we avoid using ensemble methods?\n",
        "Avoid if:\n",
        "\n",
        "Interpretability is crucial (ensembles can be complex).\n",
        "\n",
        "Computational resources or training time are limited.\n",
        "\n",
        "Dataset is very small (ensembles can overfit small data).\n",
        "\n",
        "Simple models already perform sufficiently well.\n",
        "\n",
        "How does Bagging help in reducing overfitting?\n",
        "By training multiple models on random bootstrap samples and averaging their predictions, Bagging reduces variance and prevents any single model's overfitting from dominating the final prediction.\n",
        "\n",
        "Why is Random Forest better than a single Decision Tree?\n",
        "Random Forest reduces overfitting by averaging multiple decorrelated trees built on random feature subsets and bootstrap samples, which leads to better generalization and more robust predictions than a single decision tree.\n",
        "\n",
        "What is the role of bootstrap sampling in Bagging?\n",
        "Bootstrap sampling generates multiple different training subsets by sampling with replacement, enabling diverse models to be trained, which improves the ensemble's variance reduction.\n",
        "\n",
        "What are some real-world applications of ensemble techniques?\n",
        "\n",
        "Fraud detection\n",
        "\n",
        "Spam filtering\n",
        "\n",
        "Medical diagnosis\n",
        "\n",
        "Stock market prediction\n",
        "\n",
        "Image classification\n",
        "\n",
        "Customer churn prediction\n",
        "\n",
        "What is the difference between Bagging and Boosting?\n",
        "\n",
        "Bagging: Builds multiple independent models in parallel on bootstrap samples; final prediction is aggregated (e.g., voting or averaging). Reduces variance.\n",
        "\n",
        "Boosting: Builds models sequentially where each new model focuses on correcting errors of previous ones; combines models weighted by their performance. Reduces bias and variance."
      ],
      "metadata": {
        "id": "GzIZ-koJojqD"
      }
    },
    {
      "cell_type": "code",
      "execution_count": null,
      "metadata": {
        "colab": {
          "base_uri": "https://localhost:8080/"
        },
        "id": "a7SEunLFcCSf",
        "outputId": "2d064bd9-c58f-4aa8-8d75-d877637f9482"
      },
      "outputs": [
        {
          "output_type": "stream",
          "name": "stdout",
          "text": [
            "Accuracy: 0.9736842105263158\n"
          ]
        }
      ],
      "source": [
        "#Q21\n",
        "from sklearn.ensemble import BaggingClassifier\n",
        "from sklearn.tree import DecisionTreeClassifier\n",
        "from sklearn.datasets import load_iris\n",
        "from sklearn.model_selection import train_test_split\n",
        "from sklearn.metrics import accuracy_score\n",
        "\n",
        "# Load dataset\n",
        "X, y = load_iris(return_X_y=True)\n",
        "X_train, X_test, y_train, y_test = train_test_split(X, y, random_state=0)\n",
        "\n",
        "# Bagging Classifier\n",
        "model = BaggingClassifier(estimator=DecisionTreeClassifier(), n_estimators=10, random_state=0)\n",
        "model.fit(X_train, y_train)\n",
        "y_pred = model.predict(X_test)\n",
        "\n",
        "# Print accuracy\n",
        "print(\"Accuracy:\", accuracy_score(y_test, y_pred))\n"
      ]
    },
    {
      "cell_type": "code",
      "source": [
        "#Q22\n",
        "from sklearn.ensemble import BaggingRegressor\n",
        "from sklearn.tree import DecisionTreeRegressor\n",
        "from sklearn.datasets import load_diabetes\n",
        "from sklearn.model_selection import train_test_split\n",
        "from sklearn.metrics import mean_squared_error\n",
        "\n",
        "# Load dataset\n",
        "X, y = load_diabetes(return_X_y=True)\n",
        "X_train, X_test, y_train, y_test = train_test_split(X, y, random_state=0)\n",
        "\n",
        "# Train Bagging Regressor\n",
        "model = BaggingRegressor(estimator=DecisionTreeRegressor(), n_estimators=10, random_state=0)\n",
        "model.fit(X_train, y_train)\n",
        "y_pred = model.predict(X_test)\n",
        "\n",
        "# Evaluate using MSE\n",
        "print(\"MSE:\", mean_squared_error(y_test, y_pred))\n"
      ],
      "metadata": {
        "colab": {
          "base_uri": "https://localhost:8080/"
        },
        "id": "RBRhKq_Ac--O",
        "outputId": "19f638fb-1507-4001-f633-2930b9971545"
      },
      "execution_count": null,
      "outputs": [
        {
          "output_type": "stream",
          "name": "stdout",
          "text": [
            "MSE: 4322.8968468468465\n"
          ]
        }
      ]
    },
    {
      "cell_type": "code",
      "source": [
        "#Q23\n",
        "from sklearn.ensemble import RandomForestClassifier\n",
        "from sklearn.datasets import load_breast_cancer\n",
        "\n",
        "X, y = load_breast_cancer(return_X_y=True)\n",
        "model = RandomForestClassifier(n_estimators=100, random_state=0)\n",
        "model.fit(X, y)\n",
        "\n",
        "importances = model.feature_importances_\n",
        "features = load_breast_cancer().feature_names\n",
        "\n",
        "for f, imp in zip(features, importances):\n",
        "    print(f\"{f}: {imp:.4f}\")\n"
      ],
      "metadata": {
        "colab": {
          "base_uri": "https://localhost:8080/"
        },
        "id": "HYBC3xb2dKqa",
        "outputId": "8ecb7626-e159-4ecd-eb3d-7f72590b8a2e"
      },
      "execution_count": null,
      "outputs": [
        {
          "output_type": "stream",
          "name": "stdout",
          "text": [
            "mean radius: 0.0243\n",
            "mean texture: 0.0142\n",
            "mean perimeter: 0.0540\n",
            "mean area: 0.0454\n",
            "mean smoothness: 0.0080\n",
            "mean compactness: 0.0035\n",
            "mean concavity: 0.0719\n",
            "mean concave points: 0.0885\n",
            "mean symmetry: 0.0056\n",
            "mean fractal dimension: 0.0021\n",
            "radius error: 0.0190\n",
            "texture error: 0.0049\n",
            "perimeter error: 0.0146\n",
            "area error: 0.0394\n",
            "smoothness error: 0.0037\n",
            "compactness error: 0.0037\n",
            "concavity error: 0.0042\n",
            "concave points error: 0.0051\n",
            "symmetry error: 0.0037\n",
            "fractal dimension error: 0.0059\n",
            "worst radius: 0.1220\n",
            "worst texture: 0.0192\n",
            "worst perimeter: 0.1740\n",
            "worst area: 0.0750\n",
            "worst smoothness: 0.0127\n",
            "worst compactness: 0.0102\n",
            "worst concavity: 0.0304\n",
            "worst concave points: 0.1186\n",
            "worst symmetry: 0.0080\n",
            "worst fractal dimension: 0.0083\n"
          ]
        }
      ]
    },
    {
      "cell_type": "code",
      "source": [
        "#Q24\n",
        "from sklearn.ensemble import RandomForestRegressor\n",
        "from sklearn.tree import DecisionTreeRegressor\n",
        "\n",
        "rf = RandomForestRegressor(random_state=0)\n",
        "dt = DecisionTreeRegressor(random_state=0)\n",
        "\n",
        "rf.fit(X_train, y_train)\n",
        "dt.fit(X_train, y_train)\n",
        "\n",
        "rf_pred = rf.predict(X_test)\n",
        "dt_pred = dt.predict(X_test)\n",
        "\n",
        "print(\"RF MSE:\", mean_squared_error(y_test, rf_pred))\n",
        "print(\"DT MSE:\", mean_squared_error(y_test, dt_pred))\n"
      ],
      "metadata": {
        "colab": {
          "base_uri": "https://localhost:8080/"
        },
        "id": "2uTTYqiudNhc",
        "outputId": "bd1c4d17-a70d-4441-d317-714254b5f03e"
      },
      "execution_count": null,
      "outputs": [
        {
          "output_type": "stream",
          "name": "stdout",
          "text": [
            "RF MSE: 3878.406963063063\n",
            "DT MSE: 5866.243243243243\n"
          ]
        }
      ]
    },
    {
      "cell_type": "code",
      "source": [
        "#Q25\n",
        "model = RandomForestClassifier(oob_score=True, random_state=0, n_estimators=100)\n",
        "model.fit(X, y)\n",
        "print(\"OOB Score:\", model.oob_score_)\n"
      ],
      "metadata": {
        "colab": {
          "base_uri": "https://localhost:8080/"
        },
        "id": "EaOiGvbGdje8",
        "outputId": "7add8d7a-e15b-4d92-da5f-6c82c2688d25"
      },
      "execution_count": null,
      "outputs": [
        {
          "output_type": "stream",
          "name": "stdout",
          "text": [
            "OOB Score: 0.968365553602812\n"
          ]
        }
      ]
    },
    {
      "cell_type": "code",
      "source": [
        "#Q26\n",
        "from sklearn.ensemble import BaggingClassifier\n",
        "from sklearn.svm import SVC\n",
        "from sklearn.datasets import load_iris\n",
        "from sklearn.model_selection import train_test_split\n",
        "from sklearn.metrics import accuracy_score\n",
        "\n",
        "# Load data\n",
        "X, y = load_iris(return_X_y=True)\n",
        "X_train, X_test, y_train, y_test = train_test_split(X, y, random_state=0)\n",
        "\n",
        "# Bagging with SVM\n",
        "model = BaggingClassifier(estimator=SVC(), n_estimators=10, random_state=0)\n",
        "model.fit(X_train, y_train)\n",
        "y_pred = model.predict(X_test)\n",
        "\n",
        "# Accuracy\n",
        "print(\"Accuracy:\", accuracy_score(y_test, y_pred))\n"
      ],
      "metadata": {
        "colab": {
          "base_uri": "https://localhost:8080/"
        },
        "id": "BjYSIgjedoUU",
        "outputId": "e2978a1d-8ee6-4057-a0a4-e7c74a8dcd44"
      },
      "execution_count": null,
      "outputs": [
        {
          "output_type": "stream",
          "name": "stdout",
          "text": [
            "Accuracy: 0.9736842105263158\n"
          ]
        }
      ]
    },
    {
      "cell_type": "code",
      "source": [
        "#Q27\n",
        "for n in [10, 50, 100, 200]:\n",
        "    model = RandomForestClassifier(n_estimators=n, random_state=0)\n",
        "    model.fit(X_train, y_train)\n",
        "    y_pred = model.predict(X_test)\n",
        "    print(f\"{n} Trees Accuracy:\", accuracy_score(y_test, y_pred))\n"
      ],
      "metadata": {
        "colab": {
          "base_uri": "https://localhost:8080/"
        },
        "id": "6A5yIWIcgaRe",
        "outputId": "96a1da2f-de6b-4bc6-bbef-983dd33e499c"
      },
      "execution_count": null,
      "outputs": [
        {
          "output_type": "stream",
          "name": "stdout",
          "text": [
            "10 Trees Accuracy: 0.9736842105263158\n",
            "50 Trees Accuracy: 0.9736842105263158\n",
            "100 Trees Accuracy: 0.9736842105263158\n",
            "200 Trees Accuracy: 0.9736842105263158\n"
          ]
        }
      ]
    },
    {
      "cell_type": "code",
      "source": [
        "#Q28\n",
        "from sklearn.ensemble import BaggingClassifier\n",
        "from sklearn.linear_model import LogisticRegression\n",
        "from sklearn.datasets import load_breast_cancer\n",
        "from sklearn.model_selection import train_test_split\n",
        "from sklearn.preprocessing import StandardScaler\n",
        "from sklearn.metrics import roc_auc_score\n",
        "\n",
        "# Load dataset\n",
        "X, y = load_breast_cancer(return_X_y=True)\n",
        "X_train, X_test, y_train, y_test = train_test_split(X, y, random_state=0)\n",
        "\n",
        "# Standardize features\n",
        "scaler = StandardScaler()\n",
        "X_train = scaler.fit_transform(X_train)\n",
        "X_test = scaler.transform(X_test)\n",
        "\n",
        "# Train Bagging Classifier\n",
        "model = BaggingClassifier(\n",
        "    estimator=LogisticRegression(max_iter=1000),\n",
        "    n_estimators=10,\n",
        "    random_state=0\n",
        ")\n",
        "model.fit(X_train, y_train)\n",
        "\n",
        "# Predict probabilities\n",
        "y_proba = model.predict_proba(X_test)\n",
        "\n",
        "# Print AUC Score\n",
        "print(\"AUC Score:\", roc_auc_score(y_test, y_proba[:, 1]))\n",
        "\n"
      ],
      "metadata": {
        "colab": {
          "base_uri": "https://localhost:8080/"
        },
        "id": "dkRwZKtkgd2P",
        "outputId": "c9680fe3-ec34-4e40-915c-8a8deb1e5db1"
      },
      "execution_count": null,
      "outputs": [
        {
          "output_type": "stream",
          "name": "stdout",
          "text": [
            "AUC Score: 0.9958071278825996\n"
          ]
        }
      ]
    },
    {
      "cell_type": "code",
      "source": [
        "#Q29\n",
        "from sklearn.ensemble import RandomForestRegressor\n",
        "from sklearn.datasets import load_diabetes\n",
        "from sklearn.model_selection import train_test_split\n",
        "\n",
        "# Load dataset\n",
        "X, y = load_diabetes(return_X_y=True)\n",
        "X_train, X_test, y_train, y_test = train_test_split(X, y, random_state=0)\n",
        "\n",
        "# Train Random Forest Regressor\n",
        "model = RandomForestRegressor(n_estimators=100, random_state=0)\n",
        "model.fit(X_train, y_train)\n",
        "\n",
        "# Analyze feature importance scores\n",
        "importances = model.feature_importances_\n",
        "feature_names = load_diabetes().feature_names\n",
        "\n",
        "# Print feature importances\n",
        "for name, importance in zip(feature_names, importances):\n",
        "    print(f\"{name}: {importance:.4f}\")\n"
      ],
      "metadata": {
        "colab": {
          "base_uri": "https://localhost:8080/"
        },
        "id": "bmoCZWrrhTw1",
        "outputId": "c4c02f6f-e1f0-46e5-c7a2-47fcfc0a7e55"
      },
      "execution_count": null,
      "outputs": [
        {
          "output_type": "stream",
          "name": "stdout",
          "text": [
            "age: 0.0497\n",
            "sex: 0.0089\n",
            "bmi: 0.3590\n",
            "bp: 0.0928\n",
            "s1: 0.0419\n",
            "s2: 0.0528\n",
            "s3: 0.0551\n",
            "s4: 0.0267\n",
            "s5: 0.2488\n",
            "s6: 0.0643\n"
          ]
        }
      ]
    },
    {
      "cell_type": "code",
      "source": [
        "#Q30\n",
        "from sklearn.ensemble import BaggingClassifier, RandomForestClassifier\n",
        "from sklearn.tree import DecisionTreeClassifier\n",
        "from sklearn.datasets import load_iris\n",
        "from sklearn.model_selection import train_test_split\n",
        "from sklearn.metrics import accuracy_score\n",
        "\n",
        "# Load data\n",
        "X, y = load_iris(return_X_y=True)\n",
        "X_train, X_test, y_train, y_test = train_test_split(X, y, random_state=0)\n",
        "\n",
        "# Train Bagging Classifier\n",
        "bagging_model = BaggingClassifier(estimator=DecisionTreeClassifier(), n_estimators=10, random_state=0)\n",
        "bagging_model.fit(X_train, y_train)\n",
        "bagging_pred = bagging_model.predict(X_test)\n",
        "\n",
        "# Train Random Forest Classifier\n",
        "rf_model = RandomForestClassifier(n_estimators=100, random_state=0)\n",
        "rf_model.fit(X_train, y_train)\n",
        "rf_pred = rf_model.predict(X_test)\n",
        "\n",
        "# Compare accuracy\n",
        "print(\"Bagging Accuracy:\", accuracy_score(y_test, bagging_pred))\n",
        "print(\"Random Forest Accuracy:\", accuracy_score(y_test, rf_pred))\n"
      ],
      "metadata": {
        "colab": {
          "base_uri": "https://localhost:8080/"
        },
        "id": "hC_ZN77umi2U",
        "outputId": "03dd39c0-420d-46b6-f32f-8522faf224d0"
      },
      "execution_count": null,
      "outputs": [
        {
          "output_type": "stream",
          "name": "stdout",
          "text": [
            "Bagging Accuracy: 0.9736842105263158\n",
            "Random Forest Accuracy: 0.9736842105263158\n"
          ]
        }
      ]
    },
    {
      "cell_type": "code",
      "source": [
        "#Q31\n",
        "from sklearn.ensemble import RandomForestClassifier\n",
        "from sklearn.datasets import load_iris\n",
        "from sklearn.model_selection import GridSearchCV, train_test_split\n",
        "\n",
        "X, y = load_iris(return_X_y=True)\n",
        "X_train, X_test, y_train, y_test = train_test_split(X, y, random_state=0)\n",
        "\n",
        "param_grid = {\n",
        "    'n_estimators': [10, 50, 100],\n",
        "    'max_depth': [None, 3, 5],\n",
        "    'criterion': ['gini', 'entropy']\n",
        "}\n",
        "\n",
        "grid = GridSearchCV(RandomForestClassifier(random_state=0), param_grid, cv=3)\n",
        "grid.fit(X_train, y_train)\n",
        "\n",
        "print(\"Best Parameters:\", grid.best_params_)\n",
        "print(\"Best Score:\", grid.best_score_)\n"
      ],
      "metadata": {
        "colab": {
          "base_uri": "https://localhost:8080/"
        },
        "id": "_Nyb3S2wm4nr",
        "outputId": "02df1448-375a-47e4-9c8a-68dc77540ff2"
      },
      "execution_count": null,
      "outputs": [
        {
          "output_type": "stream",
          "name": "stdout",
          "text": [
            "Best Parameters: {'criterion': 'gini', 'max_depth': None, 'n_estimators': 50}\n",
            "Best Score: 0.9556661925082978\n"
          ]
        }
      ]
    },
    {
      "cell_type": "code",
      "source": [
        "#Q32\n",
        "from sklearn.ensemble import BaggingRegressor\n",
        "from sklearn.tree import DecisionTreeRegressor\n",
        "from sklearn.datasets import load_diabetes\n",
        "from sklearn.metrics import mean_squared_error\n",
        "\n",
        "X, y = load_diabetes(return_X_y=True)\n",
        "X_train, X_test, y_train, y_test = train_test_split(X, y, random_state=0)\n",
        "\n",
        "for n in [5, 10, 50, 100]:\n",
        "    model = BaggingRegressor(estimator=DecisionTreeRegressor(), n_estimators=n, random_state=0)\n",
        "    model.fit(X_train, y_train)\n",
        "    y_pred = model.predict(X_test)\n",
        "    mse = mean_squared_error(y_test, y_pred)\n",
        "    print(f\"{n} Estimators MSE: {mse:.2f}\")\n"
      ],
      "metadata": {
        "colab": {
          "base_uri": "https://localhost:8080/"
        },
        "id": "k1OP5EoLm9pF",
        "outputId": "d5b1a5cd-e4d8-4ee4-f84c-d8dd32dfd17d"
      },
      "execution_count": null,
      "outputs": [
        {
          "output_type": "stream",
          "name": "stdout",
          "text": [
            "5 Estimators MSE: 4687.23\n",
            "10 Estimators MSE: 4322.90\n",
            "50 Estimators MSE: 3984.42\n",
            "100 Estimators MSE: 3872.66\n"
          ]
        }
      ]
    },
    {
      "cell_type": "code",
      "source": [
        "#Q33\n",
        "from sklearn.metrics import accuracy_score\n",
        "import numpy as np\n",
        "\n",
        "clf = RandomForestClassifier(random_state=0)\n",
        "clf.fit(X_train, y_train)\n",
        "y_pred = clf.predict(X_test)\n",
        "\n",
        "misclassified = np.where(y_pred != y_test)[0]\n",
        "print(\"Misclassified Indices:\", misclassified.tolist())\n",
        "print(\"Accuracy:\", accuracy_score(y_test, y_pred))\n"
      ],
      "metadata": {
        "colab": {
          "base_uri": "https://localhost:8080/"
        },
        "id": "EyJCwwSfnEbW",
        "outputId": "e5d40d2f-c2e5-4a11-cd6c-71ae841c5abf"
      },
      "execution_count": null,
      "outputs": [
        {
          "output_type": "stream",
          "name": "stdout",
          "text": [
            "Misclassified Indices: [0, 1, 2, 3, 4, 5, 6, 7, 8, 9, 10, 11, 12, 13, 14, 15, 16, 17, 18, 19, 20, 21, 22, 23, 24, 25, 26, 27, 28, 29, 30, 31, 32, 33, 34, 35, 36, 37, 38, 39, 40, 41, 42, 43, 44, 45, 46, 47, 48, 49, 50, 51, 52, 53, 54, 55, 56, 57, 58, 59, 60, 61, 62, 63, 64, 65, 66, 67, 68, 69, 70, 71, 72, 73, 74, 75, 76, 77, 78, 79, 80, 81, 82, 83, 84, 85, 86, 87, 88, 89, 90, 91, 92, 93, 94, 95, 96, 97, 98, 99, 100, 101, 102, 103, 104, 105, 106, 107, 108, 109, 110]\n",
            "Accuracy: 0.0\n"
          ]
        }
      ]
    },
    {
      "cell_type": "code",
      "source": [
        "#Q34\n",
        "from sklearn.tree import DecisionTreeClassifier\n",
        "\n",
        "tree = DecisionTreeClassifier(random_state=0)\n",
        "bagging = BaggingClassifier(estimator=DecisionTreeClassifier(), n_estimators=10, random_state=0)\n",
        "\n",
        "tree.fit(X_train, y_train)\n",
        "bagging.fit(X_train, y_train)\n",
        "\n",
        "tree_acc = accuracy_score(y_test, tree.predict(X_test))\n",
        "bagging_acc = accuracy_score(y_test, bagging.predict(X_test))\n",
        "\n",
        "print(\"Decision Tree Accuracy:\", tree_acc)\n",
        "print(\"Bagging Accuracy:\", bagging_acc)\n"
      ],
      "metadata": {
        "colab": {
          "base_uri": "https://localhost:8080/"
        },
        "id": "LgtWk8F-nIDq",
        "outputId": "ee3429bd-df7a-4731-f78a-2ef23b2c1f8b"
      },
      "execution_count": null,
      "outputs": [
        {
          "output_type": "stream",
          "name": "stdout",
          "text": [
            "Decision Tree Accuracy: 0.0\n",
            "Bagging Accuracy: 0.009009009009009009\n"
          ]
        }
      ]
    },
    {
      "cell_type": "code",
      "source": [
        "#Q35\n",
        "from sklearn.metrics import confusion_matrix, ConfusionMatrixDisplay\n",
        "import matplotlib.pyplot as plt\n",
        "\n",
        "clf = RandomForestClassifier(random_state=0)\n",
        "clf.fit(X_train, y_train)\n",
        "y_pred = clf.predict(X_test)\n",
        "\n",
        "cm = confusion_matrix(y_test, y_pred)\n",
        "disp = ConfusionMatrixDisplay(confusion_matrix=cm)\n",
        "disp.plot()\n",
        "plt.title(\"Confusion Matrix\")\n",
        "plt.show()\n"
      ],
      "metadata": {
        "colab": {
          "base_uri": "https://localhost:8080/",
          "height": 472
        },
        "id": "ZilFWdslnLqt",
        "outputId": "1cf574fd-17c5-4d92-db1d-38bb5c9fa5d7"
      },
      "execution_count": null,
      "outputs": [
        {
          "output_type": "display_data",
          "data": {
            "text/plain": [
              "<Figure size 640x480 with 2 Axes>"
            ],
            "image/png": "[encoded data removed]"
          },
          "metadata": {}
        }
      ]
    },
    {
      "cell_type": "code",
      "source": [
        "#Q37\n",
        "from sklearn.ensemble import StackingClassifier\n",
        "from sklearn.tree import DecisionTreeClassifier\n",
        "from sklearn.svm import SVC\n",
        "from sklearn.linear_model import LogisticRegression\n",
        "from sklearn.model_selection import StratifiedKFold, train_test_split\n",
        "from sklearn.datasets import load_iris\n",
        "from sklearn.metrics import accuracy_score\n",
        "\n",
        "# Load multiclass dataset\n",
        "X, y = load_iris(return_X_y=True)\n",
        "X_train, X_test, y_train, y_test = train_test_split(X, y, random_state=0)\n",
        "\n",
        "# Define base models\n",
        "estimators = [\n",
        "    ('dt', DecisionTreeClassifier()),\n",
        "    ('svm', SVC(probability=True))\n",
        "]\n",
        "\n",
        "# Use StratifiedKFold to maintain class balance in folds\n",
        "cv = StratifiedKFold(n_splits=5, shuffle=True, random_state=0)\n",
        "\n",
        "# Define StackingClassifier\n",
        "stack = StackingClassifier(\n",
        "    estimators=estimators,\n",
        "    final_estimator=LogisticRegression(max_iter=1000),\n",
        "    cv=cv\n",
        ")\n",
        "\n",
        "# Train and evaluate\n",
        "stack.fit(X_train, y_train)\n",
        "y_pred = stack.predict(X_test)\n",
        "print(\"Stacking Classifier Accuracy:\", accuracy_score(y_test, y_pred))\n"
      ],
      "metadata": {
        "colab": {
          "base_uri": "https://localhost:8080/"
        },
        "id": "By8P7tJXnW-t",
        "outputId": "0a658514-6900-4a58-b82c-c208038c2b99"
      },
      "execution_count": null,
      "outputs": [
        {
          "output_type": "stream",
          "name": "stdout",
          "text": [
            "Stacking Classifier Accuracy: 0.9736842105263158\n"
          ]
        }
      ]
    },
    {
      "cell_type": "code",
      "source": [
        "#Q38\n",
        "from sklearn.metrics import precision_score, recall_score, f1_score\n",
        "\n",
        "clf = BaggingClassifier(estimator=DecisionTreeClassifier(), random_state=0)\n",
        "clf.fit(X_train, y_train)\n",
        "y_pred = clf.predict(X_test)\n",
        "\n",
        "print(\"Precision:\", precision_score(y_test, y_pred, average='macro'))\n",
        "print(\"Recall:\", recall_score(y_test, y_pred, average='macro'))\n",
        "print(\"F1 Score:\", f1_score(y_test, y_pred, average='macro'))\n"
      ],
      "metadata": {
        "colab": {
          "base_uri": "https://localhost:8080/"
        },
        "id": "6CMEnj7-noy6",
        "outputId": "fec172ad-7658-4e18-9c0a-be000622640e"
      },
      "execution_count": null,
      "outputs": [
        {
          "output_type": "stream",
          "name": "stdout",
          "text": [
            "Precision: 0.9666666666666667\n",
            "Recall: 0.9791666666666666\n",
            "F1 Score: 0.9717034521788341\n"
          ]
        }
      ]
    },
    {
      "cell_type": "code",
      "source": [
        "#Q39\n",
        "for depth in [1, 3, 5, 10, None]:\n",
        "    clf = RandomForestClassifier(max_depth=depth, random_state=0)\n",
        "    clf.fit(X_train, y_train)\n",
        "    acc = accuracy_score(y_test, clf.predict(X_test))\n",
        "    print(f\"Max Depth={depth}: Accuracy = {acc:.2f}\")\n"
      ],
      "metadata": {
        "colab": {
          "base_uri": "https://localhost:8080/"
        },
        "id": "MjtzvQRxnuDM",
        "outputId": "de29d728-b08c-4e12-e8ab-964d7457daa5"
      },
      "execution_count": null,
      "outputs": [
        {
          "output_type": "stream",
          "name": "stdout",
          "text": [
            "Max Depth=1: Accuracy = 0.95\n",
            "Max Depth=3: Accuracy = 0.97\n",
            "Max Depth=5: Accuracy = 0.97\n",
            "Max Depth=10: Accuracy = 0.97\n",
            "Max Depth=None: Accuracy = 0.97\n"
          ]
        }
      ]
    },
    {
      "cell_type": "code",
      "source": [
        "#Q40\n",
        "from sklearn.neighbors import KNeighborsRegressor\n",
        "\n",
        "for base in [DecisionTreeRegressor(), KNeighborsRegressor()]:\n",
        "    model = BaggingRegressor(estimator=base, n_estimators=10, random_state=0)\n",
        "    model.fit(X_train, y_train)\n",
        "    mse = mean_squared_error(y_test, model.predict(X_test))\n",
        "    print(f\"{type(base).__name__} - MSE: {mse:.2f}\")\n"
      ],
      "metadata": {
        "colab": {
          "base_uri": "https://localhost:8080/"
        },
        "id": "wectFYz6nxaK",
        "outputId": "0a0d4ede-58a8-4c3e-b12d-884b15dceb2a"
      },
      "execution_count": null,
      "outputs": [
        {
          "output_type": "stream",
          "name": "stdout",
          "text": [
            "DecisionTreeRegressor - MSE: 0.02\n",
            "KNeighborsRegressor - MSE: 0.03\n"
          ]
        }
      ]
    },
    {
      "cell_type": "code",
      "source": [
        "#Q41\n",
        "from sklearn.metrics import roc_auc_score\n",
        "from sklearn.preprocessing import label_binarize\n",
        "\n",
        "# Works only on binary classification; use breast cancer dataset\n",
        "from sklearn.datasets import load_breast_cancer\n",
        "X, y = load_breast_cancer(return_X_y=True)\n",
        "X_train, X_test, y_train, y_test = train_test_split(X, y, random_state=0)\n",
        "\n",
        "clf = RandomForestClassifier(random_state=0)\n",
        "clf.fit(X_train, y_train)\n",
        "y_proba = clf.predict_proba(X_test)\n",
        "\n",
        "print(\"ROC-AUC Score:\", roc_auc_score(y_test, y_proba[:, 1]))\n"
      ],
      "metadata": {
        "colab": {
          "base_uri": "https://localhost:8080/"
        },
        "id": "h_UAPlRvn059",
        "outputId": "edf176a8-fe4b-4c91-de05-25cfc21a49ef"
      },
      "execution_count": null,
      "outputs": [
        {
          "output_type": "stream",
          "name": "stdout",
          "text": [
            "ROC-AUC Score: 0.9975890985324948\n"
          ]
        }
      ]
    },
    {
      "cell_type": "code",
      "source": [
        "#Q42\n",
        "from sklearn.model_selection import cross_val_score\n",
        "\n",
        "model = BaggingClassifier(estimator=DecisionTreeClassifier(), random_state=0)\n",
        "scores = cross_val_score(model, X, y, cv=5)\n",
        "print(\"Cross-Validation Accuracy Scores:\", scores)\n",
        "print(\"Mean Accuracy:\", scores.mean())\n"
      ],
      "metadata": {
        "colab": {
          "base_uri": "https://localhost:8080/"
        },
        "id": "bfhpd4s-n3sT",
        "outputId": "ba77f73d-bd34-443b-cbcb-3f5e090e1a66"
      },
      "execution_count": null,
      "outputs": [
        {
          "output_type": "stream",
          "name": "stdout",
          "text": [
            "Cross-Validation Accuracy Scores: [0.93859649 0.92982456 0.98245614 0.97368421 0.96460177]\n",
            "Mean Accuracy: 0.9578326346840553\n"
          ]
        }
      ]
    },
    {
      "cell_type": "code",
      "source": [
        "#Q43\n",
        "from sklearn.metrics import precision_recall_curve, PrecisionRecallDisplay\n",
        "\n",
        "clf = RandomForestClassifier(random_state=0)\n",
        "clf.fit(X_train, y_train)\n",
        "y_scores = clf.predict_proba(X_test)[:, 1]\n",
        "\n",
        "precision, recall, _ = precision_recall_curve(y_test, y_scores)\n",
        "disp = PrecisionRecallDisplay(precision=precision, recall=recall)\n",
        "disp.plot()\n",
        "plt.title(\"Precision-Recall Curve\")\n",
        "plt.show()\n"
      ],
      "metadata": {
        "colab": {
          "base_uri": "https://localhost:8080/",
          "height": 472
        },
        "id": "emHR7_7Bn9AN",
        "outputId": "e2a91aa1-5e2c-4525-db8e-19333d12778d"
      },
      "execution_count": null,
      "outputs": [
        {
          "output_type": "display_data",
          "data": {
            "text/plain": [
              "<Figure size 640x480 with 1 Axes>"
            ],
            "image/png": "[encoded data removed]"
          },
          "metadata": {}
        }
      ]
    },
    {
      "cell_type": "code",
      "source": [
        "#Q44\n",
        "from sklearn.ensemble import StackingClassifier, RandomForestClassifier\n",
        "from sklearn.linear_model import LogisticRegression\n",
        "from sklearn.model_selection import train_test_split\n",
        "from sklearn.datasets import load_breast_cancer\n",
        "from sklearn.preprocessing import StandardScaler\n",
        "from sklearn.metrics import accuracy_score\n",
        "\n",
        "# Load binary classification dataset\n",
        "X, y = load_breast_cancer(return_X_y=True)\n",
        "X_train, X_test, y_train, y_test = train_test_split(X, y, random_state=0)\n",
        "\n",
        "# Scale the features\n",
        "scaler = StandardScaler()\n",
        "X_train_scaled = scaler.fit_transform(X_train)\n",
        "X_test_scaled = scaler.transform(X_test)\n",
        "\n",
        "# Define base estimators\n",
        "estimators = [\n",
        "    ('rf', RandomForestClassifier(n_estimators=50, random_state=0)),\n",
        "    ('lr', LogisticRegression(max_iter=5000, random_state=0))\n",
        "]\n",
        "\n",
        "# Define Stacking Classifier\n",
        "stack = StackingClassifier(\n",
        "    estimators=estimators,\n",
        "    final_estimator=LogisticRegression(max_iter=5000, random_state=0)\n",
        ")\n",
        "\n",
        "# Train and evaluate\n",
        "stack.fit(X_train_scaled, y_train)\n",
        "y_pred = stack.predict(X_test_scaled)\n",
        "print(\"Stacking Accuracy:\", accuracy_score(y_test, y_pred))\n"
      ],
      "metadata": {
        "colab": {
          "base_uri": "https://localhost:8080/"
        },
        "id": "fjFYlaWqn_5e",
        "outputId": "7517ddaf-e62b-47a0-f877-b384a3e7c130"
      },
      "execution_count": null,
      "outputs": [
        {
          "output_type": "stream",
          "name": "stdout",
          "text": [
            "Stacking Accuracy: 0.965034965034965\n"
          ]
        }
      ]
    },
    {
      "cell_type": "code",
      "source": [
        "#Q45\n",
        "for bootstrap in [True, False]:\n",
        "    model = BaggingRegressor(estimator=DecisionTreeRegressor(), n_estimators=10, bootstrap=bootstrap, random_state=0)\n",
        "    model.fit(X_train, y_train)\n",
        "    mse = mean_squared_error(y_test, model.predict(X_test))\n",
        "    print(f\"Bootstrap={bootstrap} - MSE: {mse:.2f}\")\n"
      ],
      "metadata": {
        "colab": {
          "base_uri": "https://localhost:8080/"
        },
        "id": "AMT75H8DoXIp",
        "outputId": "5fffa1ea-47e3-4cca-859a-d7bddcf1b7e1"
      },
      "execution_count": null,
      "outputs": [
        {
          "output_type": "stream",
          "name": "stdout",
          "text": [
            "Bootstrap=True - MSE: 0.03\n",
            "Bootstrap=False - MSE: 0.09\n"
          ]
        }
      ]
    }
  ]
}